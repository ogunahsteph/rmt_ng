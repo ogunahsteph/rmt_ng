{
 "cells": [
  {
   "cell_type": "code",
   "execution_count": 1,
   "id": "34b9437b-1908-4bdd-8c97-0846dcc98b24",
   "metadata": {},
   "outputs": [],
   "source": [
    "import sys\n",
    "\n",
    "sys.path.insert(0, '../')\n",
    "from src.models.scoring_pipeline_remita import *"
   ]
  },
  {
   "cell_type": "code",
   "execution_count": 2,
   "id": "4ec87700-c3cd-4d95-8638-90b09e1fe9de",
   "metadata": {},
   "outputs": [],
   "source": [
    "pd.set_option('display.max_columns', None)"
   ]
  },
  {
   "cell_type": "code",
   "execution_count": 3,
   "id": "179ca85d-90bc-43f2-ba0a-2431beef399d",
   "metadata": {},
   "outputs": [],
   "source": [
    "args = argparse.ArgumentParser()\n",
    "args.add_argument(\"--config\", default = f\"../params.yaml\")\n",
    "parsed_args = vars(args.parse_args(\"\"))\n",
    "config_path = parsed_args['config']"
   ]
  },
  {
   "cell_type": "code",
   "execution_count": 4,
   "id": "812be115-cb51-468c-adee-56a87c9d960c",
   "metadata": {},
   "outputs": [],
   "source": [
    "config = read_params(config_path)\n",
    "bvn_nos = config['test_config'][\"bvn_nos\"]"
   ]
  },
  {
   "cell_type": "code",
   "execution_count": 5,
   "id": "826bbf81-ef4b-4ef0-b1d8-c36155fae12a",
   "metadata": {},
   "outputs": [
    {
     "name": "stderr",
     "output_type": "stream",
     "text": [
      "13:05:55: Scoring 22156181943 ...\n",
      "13:05:55: Pull government companies ...\n",
      "13:05:55: Connection successful\n"
     ]
    },
    {
     "name": "stdout",
     "output_type": "stream",
     "text": [
      "\n"
     ]
    },
    {
     "name": "stderr",
     "output_type": "stream",
     "text": [
      "13:05:59: Pull clients ...\n",
      "13:05:59: Connection successful\n",
      "13:06:01: Pull max salary payment date ...\n",
      "13:06:01: Connection successful\n",
      "13:06:03: Pull salaries ...\n",
      "13:06:03: Connection successful\n",
      "13:06:06: Pull loans ...\n",
      "13:06:06: Connection successful\n",
      "13:06:08: Pull salary payment date ...\n",
      "13:06:08: Connection successful\n",
      "13:06:10: Pull crb report ...\n",
      "13:06:10: Connection successful\n",
      "13:06:13: Upload scoring results ...\n",
      "13:06:13: --------------- Scoring response ---------------\n",
      " {'limit_reason': 'Success. ', 'payday_limit_reason': 'Not eligible for product', 'final_is_qualified': True, 'payday_final_is_qualified': False, 'is_govt_employee': '0'}\n",
      "13:06:13: Pull scoring results ...\n",
      "13:06:13: Connection successful\n"
     ]
    },
    {
     "name": "stdout",
     "output_type": "stream",
     "text": [
      "\n"
     ]
    },
    {
     "name": "stderr",
     "output_type": "stream",
     "text": [
      "13:06:17: Pull phone numbers ...\n",
      "13:06:17: Connection successful\n",
      "13:06:19: Sharing remita limits for 22156181943 ...\n",
      "13:06:19: URL: https://www.callback.com/url/endpoint\n",
      "13:06:19: Remita limits for 22156181943 NOT shared because share_limits flag = False\n",
      "13:06:19: -------------------- Payload --------------------\n",
      " {'clientId': 'AsanteDs0521', 'phoneNo': '2348037867574', 'bvn': '22156181943', 'limit': 85200.0, 'isQualified': True, 'createdDate': '2023-09-14T13:06:19', 'tenure': 3, 'paydayLimit': 0.0, 'isQualifiedPayday': True, 'extras': {'limit_reason': 'Success. ', 'payday_limit_reason': 'Not eligible for product'}}\n",
      "\n"
     ]
    },
    {
     "name": "stdout",
     "output_type": "stream",
     "text": [
      "\n",
      "\n",
      "=============================================================================================================================================================================\n"
     ]
    }
   ],
   "source": [
    "# ValueError: Expected a 1D array, got an array with shape (0, 8)\n",
    "# client_bvn = '22190745147' # '22253049881'\n",
    "\n",
    "# scoring_scripts/crb_data_incorporation.py\", line 219, in get_additional_crb_logic final_df = pd.merge(final_df, report_detail, on='bvn_no') \n",
    "# ValueError: You are trying to merge on int64 and object columns. If you wish to proceed you should use pd.concat\n",
    "# client_bvn = '22209333088' # '22151967960' | '22442504096'\n",
    "\n",
    "# Validate limit reject reason\n",
    "# client_bvn = '22422834430' # '22329724760'\n",
    "\n",
    "# Validate limit reason\n",
    "client_bvn = '22156181943' # '22231561608' | '22354326386' | '22153417946'\n",
    "\n",
    "# trigger_scoring_script(config_path, bvn=client_bvn)\n",
    "get_scoring_results(config_path, bvn=client_bvn)\n",
    "pass_generated_limits_to_engineering(config_path, bvn=client_bvn, callback_url=read_params(config_path)['airflow_api_config']['callback_url'])\n",
    "print('=============================================================================================================================================================================')"
   ]
  },
  {
   "cell_type": "code",
   "execution_count": 6,
   "id": "d572da66-34ae-406e-bec4-4c96a78076cc",
   "metadata": {},
   "outputs": [],
   "source": [
    "# for client_bvn in bvn_nos:#[::-1]:\n",
    "#     # trigger_scoring_script(config_path, client_bvn=client_bvn)\n",
    "#     get_scoring_results(config_path, bvn=client_bvn)\n",
    "#     pass_generated_limits_to_engineering(config_path, bvn=client_bvn, callback_url=read_params(config_path)['airflow_api_config']['callback_url'])\n",
    "#     # break\n",
    "#     print('=============================================================================================================================================================================')"
   ]
  },
  {
   "cell_type": "code",
   "execution_count": null,
   "id": "ced6e7d0-e131-4451-b951-b67e3578f49e",
   "metadata": {
    "tags": []
   },
   "outputs": [],
   "source": []
  }
 ],
 "metadata": {
  "kernelspec": {
   "display_name": "Python 3 (ipykernel)",
   "language": "python",
   "name": "python3"
  },
  "language_info": {
   "codemirror_mode": {
    "name": "ipython",
    "version": 3
   },
   "file_extension": ".py",
   "mimetype": "text/x-python",
   "name": "python",
   "nbconvert_exporter": "python",
   "pygments_lexer": "ipython3",
   "version": "3.10.10"
  }
 },
 "nbformat": 4,
 "nbformat_minor": 5
}
